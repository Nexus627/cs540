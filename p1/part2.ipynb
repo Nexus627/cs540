{
 "cells": [
  {
   "attachments": {},
   "cell_type": "markdown",
   "metadata": {},
   "source": [
    "### Initializations and Data Preparation"
   ]
  },
  {
   "cell_type": "code",
   "execution_count": 39,
   "metadata": {},
   "outputs": [],
   "source": [
    "# imports\n",
    "\n",
    "import numpy as np\n",
    "import pandas as pd"
   ]
  },
  {
   "cell_type": "code",
   "execution_count": 40,
   "metadata": {},
   "outputs": [],
   "source": [
    "# data loading and rescaling\n",
    "\n",
    "df = pd.read_csv('mnist_train.csv')\n",
    "x_train = (df.iloc[:, 1:].values) / 255\n",
    "y_train = df.iloc[:, 0].values"
   ]
  },
  {
   "cell_type": "code",
   "execution_count": 46,
   "metadata": {},
   "outputs": [],
   "source": [
    "# hyperparameters\n",
    "\n",
    "learning_rate = 0.01\n",
    "num_epochs = 20\n",
    "\n",
    "# we have 784 input units, 28 hidden units and 1 output unit (only classifying whether digit in 2 or 7)\n",
    "h = 28\n",
    "n = 784\n",
    "\n",
    "# initialize weights and biases\n",
    "# % Code attribution: Hongtao Hao's P1 example solution.\n",
    "w1 = np.random.uniform(low=-1, high=1, size=(n, h))\n",
    "w2 = np.random.uniform(low=-1, high=1, size=(h, 1))\n",
    "b1 = np.random.uniform(low=-1, high=1, size=(h, 1))\n",
    "b2 = np.random.uniform(low=-1, high=1, size=(1, 1))"
   ]
  },
  {
   "attachments": {},
   "cell_type": "markdown",
   "metadata": {},
   "source": [
    "### Extract Training data of digits 2 and 7"
   ]
  },
  {
   "cell_type": "code",
   "execution_count": 42,
   "metadata": {},
   "outputs": [],
   "source": [
    "# % Code attribution: Hongtao Hao's P1 example solution.\n",
    "\n",
    "test_labels = [2, 7]\n",
    "indices = np.where(np.isin(y_train, test_labels))[0]\n",
    "\n",
    "# get the indices of the training data that have labels 2 and 7\n",
    "x = x_train[indices]\n",
    "y = y_train[indices]\n",
    "\n",
    "# label 2 as 0 and label 7 as 1\n",
    "y[y == test_labels[0]] = 0\n",
    "y[y == test_labels[1]] = 1"
   ]
  },
  {
   "attachments": {},
   "cell_type": "markdown",
   "metadata": {},
   "source": [
    "### Utility Functions"
   ]
  },
  {
   "cell_type": "code",
   "execution_count": 43,
   "metadata": {},
   "outputs": [],
   "source": [
    "# sigmoid activation\n",
    "\n",
    "def sigmoid(x):\n",
    "    return 1 / (1 + np.exp(-x))"
   ]
  },
  {
   "cell_type": "code",
   "execution_count": 44,
   "metadata": {},
   "outputs": [],
   "source": [
    "# derivative of sigmoid function\n",
    "\n",
    "def sigmoid_derivative(y):\n",
    "    return y * (1 - y)"
   ]
  },
  {
   "cell_type": "code",
   "execution_count": 47,
   "metadata": {},
   "outputs": [
    {
     "name": "stdout",
     "output_type": "stream",
     "text": [
      "Epoch 1: Loss = 245.2080, Accuracy = 0.9557\n",
      "Epoch 2: Loss = 178.8658, Accuracy = 0.9652\n",
      "Epoch 3: Loss = 153.0950, Accuracy = 0.9687\n",
      "Epoch 4: Loss = 137.0134, Accuracy = 0.9721\n",
      "Epoch 5: Loss = 125.4655, Accuracy = 0.9750\n",
      "Epoch 6: Loss = 116.4436, Accuracy = 0.9760\n",
      "Epoch 7: Loss = 109.4437, Accuracy = 0.9781\n",
      "Epoch 8: Loss = 103.6423, Accuracy = 0.9786\n",
      "Epoch 9: Loss = 98.8629, Accuracy = 0.9799\n",
      "Epoch 10: Loss = 94.3473, Accuracy = 0.9804\n",
      "Epoch 11: Loss = 90.7350, Accuracy = 0.9812\n",
      "Epoch 12: Loss = 87.2630, Accuracy = 0.9824\n",
      "Epoch 13: Loss = 84.6859, Accuracy = 0.9826\n",
      "Epoch 14: Loss = 81.5992, Accuracy = 0.9833\n",
      "Epoch 15: Loss = 79.8560, Accuracy = 0.9835\n",
      "Epoch 16: Loss = 76.8191, Accuracy = 0.9845\n",
      "Epoch 17: Loss = 74.9394, Accuracy = 0.9851\n",
      "Epoch 18: Loss = 72.7076, Accuracy = 0.9855\n",
      "Epoch 19: Loss = 70.9418, Accuracy = 0.9859\n",
      "Epoch 20: Loss = 69.1192, Accuracy = 0.9858\n"
     ]
    }
   ],
   "source": [
    "# Training for num_epochs\n",
    "# % Code attribution: Hongtao Hao's P1 example solution.\n",
    "\n",
    "for epoch in range(1, num_epochs + 1):\n",
    "    # shuffle the dataset\n",
    "    num_train = len(y)\n",
    "    train_index = np.arange(num_train)\n",
    "    np.random.shuffle(train_index)\n",
    "\n",
    "    for i in train_index:\n",
    "        # a1 will be of the dimension of 28 * 1\n",
    "        a1 = sigmoid(w1.T @ x[i, :].reshape(-1, 1) + b1)\n",
    "        # a2 is a 1*1 matrix\n",
    "        a2 = sigmoid(w2.T @ a1 + b2)\n",
    "\n",
    "        # dCdw1 will be a 28 * 784 matrix\n",
    "        dCdw1 = (\n",
    "            (a2 - y[i])\n",
    "            * sigmoid_derivative(a2)\n",
    "            * w2\n",
    "            * sigmoid_derivative(a1)\n",
    "            * (x[i, :].reshape(1, -1))\n",
    "        )\n",
    "\n",
    "        # dCdb1 will be a 28 * 1 matrix\n",
    "        dCdb1 = (\n",
    "            (a2 - y[i]) * sigmoid_derivative(a2) * w2 * sigmoid_derivative(a1)\n",
    "        )\n",
    "\n",
    "        # dCdw2 will be a a 28 * 1 matrix\n",
    "        dCdw2 = (a2 - y[i]) * sigmoid_derivative(a2) * a1\n",
    "\n",
    "        # dCdb2 will be a 1*1 matrix\n",
    "        dCdb2 = (a2 - y[i]) * sigmoid_derivative(a2)\n",
    "\n",
    "        # update w1, b1, w2, b2\n",
    "        w1 = w1 - learning_rate * dCdw1.T\n",
    "        b1 = b1 - learning_rate * dCdb1\n",
    "        w2 = w2 - learning_rate * dCdw2\n",
    "        b2 = b2 - learning_rate * dCdb2\n",
    "    \n",
    "    # x @ w1 will be num_train * 28 matrix\n",
    "    # the output of the hidden layer will be a num_train * 28 matrix\n",
    "    out_h = sigmoid(x @ w1 + b1.T)\n",
    "    # the output of the output layer will be a num_train * 1 matrix\n",
    "    out_o = sigmoid(out_h @ w2 + b2)\n",
    "\n",
    "    loss = 0.5 * np.sum(np.square(y.reshape(-1, 1) - out_o))\n",
    "\n",
    "    correct = sum((out_o > 0.5).astype(int) == y.reshape(-1, 1))\n",
    "    accuracy = (correct / num_train)[0]\n",
    "    \n",
    "    # log results\n",
    "    print(f'Epoch {epoch}: Loss = {loss:.4f}, Accuracy = {accuracy:.4f}')"
   ]
  },
  {
   "attachments": {},
   "cell_type": "markdown",
   "metadata": {},
   "source": [
    "### Questions"
   ]
  },
  {
   "cell_type": "code",
   "execution_count": 54,
   "metadata": {},
   "outputs": [],
   "source": [
    "# question 5\n",
    "\n",
    "params = np.concatenate((w1, b1.T))\n",
    "\n",
    "np.savetxt('q5.txt', params, fmt='%.4f', delimiter=',')"
   ]
  },
  {
   "cell_type": "code",
   "execution_count": 56,
   "metadata": {},
   "outputs": [],
   "source": [
    "# question 6\n",
    "\n",
    "params = np.concatenate((w2, b2))\n",
    "\n",
    "np.savetxt('q6.txt', params.reshape(1,-1), fmt='%.4f', delimiter=',')"
   ]
  },
  {
   "cell_type": "code",
   "execution_count": 57,
   "metadata": {},
   "outputs": [],
   "source": [
    "# question 7\n",
    "\n",
    "# load test data from assignment\n",
    "test = np.loadtxt(\"test.txt\", delimiter=\",\")\n",
    "test = test / 255.0\n",
    "\n",
    "# calculate activations\n",
    "a = sigmoid(test @ w1 + b1.T)\n",
    "a = sigmoid(a @ w2 + b2)\n",
    "\n",
    "np.savetxt('q7.txt', a.reshape(1, -1), fmt='%.2f', delimiter=',')"
   ]
  },
  {
   "cell_type": "code",
   "execution_count": 53,
   "metadata": {},
   "outputs": [],
   "source": [
    "# question 8\n",
    "\n",
    "preds = np.array([1 if activation >= 0.5 else 0 for activation in a])\n",
    "\n",
    "np.savetxt('q8.txt', preds.reshape(1, -1), fmt='%d', delimiter=',')"
   ]
  }
 ],
 "metadata": {
  "kernelspec": {
   "display_name": "Python 3",
   "language": "python",
   "name": "python3"
  },
  "language_info": {
   "codemirror_mode": {
    "name": "ipython",
    "version": 3
   },
   "file_extension": ".py",
   "mimetype": "text/x-python",
   "name": "python",
   "nbconvert_exporter": "python",
   "pygments_lexer": "ipython3",
   "version": "3.10.0"
  },
  "orig_nbformat": 4
 },
 "nbformat": 4,
 "nbformat_minor": 2
}
